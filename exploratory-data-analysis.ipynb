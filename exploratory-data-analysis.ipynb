{
 "cells": [
  {
   "cell_type": "markdown",
   "id": "4a5f94bd",
   "metadata": {},
   "source": [
    "# 0.0) Libraries and Helper Functions"
   ]
  },
  {
   "cell_type": "markdown",
   "id": "397d1b6d",
   "metadata": {},
   "source": [
    "## 0.1) Libraries"
   ]
  },
  {
   "cell_type": "code",
   "execution_count": 270,
   "id": "6da5fba3",
   "metadata": {
    "ExecuteTime": {
     "end_time": "2022-04-27T22:08:21.313544Z",
     "start_time": "2022-04-27T22:08:21.308459Z"
    }
   },
   "outputs": [],
   "source": [
    "import warnings\n",
    "import pandas as pd\n",
    "import psycopg2 as pg\n",
    "import seaborn as sns\n",
    "import matplotlib.pyplot as plt\n",
    "\n",
    "warnings.filterwarnings(\"ignore\")"
   ]
  },
  {
   "cell_type": "markdown",
   "id": "73932d0f",
   "metadata": {},
   "source": [
    "## 0.2) Helper Functions"
   ]
  },
  {
   "cell_type": "code",
   "execution_count": 221,
   "id": "6c181fce",
   "metadata": {
    "ExecuteTime": {
     "end_time": "2022-04-27T21:50:16.804119Z",
     "start_time": "2022-04-27T21:50:16.795005Z"
    }
   },
   "outputs": [],
   "source": [
    "def jupyter_settings():\n",
    "    %matplotlib inline\n",
    "    plt.rcParams['figure.figsize'] = [15, 10]\n",
    "    plt.rcParams['font.size'] = 30\n",
    "    \n",
    "    sns.set()\n",
    "jupyter_settings()"
   ]
  },
  {
   "cell_type": "markdown",
   "id": "1f6ef0e7",
   "metadata": {},
   "source": [
    "# 1) Data Extraction"
   ]
  },
  {
   "cell_type": "code",
   "execution_count": 293,
   "id": "50a31473",
   "metadata": {
    "ExecuteTime": {
     "end_time": "2022-04-27T22:18:30.632291Z",
     "start_time": "2022-04-27T22:18:24.695409Z"
    }
   },
   "outputs": [],
   "source": [
    "# Credentials\n",
    "credentials = pd.read_csv('conn.csv')\n",
    "\n",
    "host = credentials['host'][0]\n",
    "port = credentials['port'][0]\n",
    "database = credentials['database'][0]\n",
    "pwd = credentials['pwd'][0]\n",
    "username = credentials['username'][0]\n",
    "\n",
    "conn = pg.connect(user=username,\n",
    "                  password = pwd,\n",
    "                  host = host,\n",
    "                  port = port,\n",
    "                  database = database)\n",
    "\n",
    "cursor = conn.cursor()\n",
    "\n",
    "\n",
    "query_tables_users = \"\"\"\n",
    "    SELECT *\n",
    "    FROM pa004.users u LEFT JOIN pa004.vehicle v  ON (u.id = v.id)\n",
    "                       LEFT JOIN pa004.insurance i ON (u.id = i.id)\n",
    "\"\"\"\n",
    "\n",
    "df1 = pd.read_sql(query_tables_users, conn)\n",
    "df1 = df1.drop(df1.columns[[5, 9]], axis = 1)\n",
    "\n",
    "conn.close()"
   ]
  },
  {
   "cell_type": "markdown",
   "id": "bac7671e",
   "metadata": {
    "ExecuteTime": {
     "end_time": "2022-04-27T19:39:30.906033Z",
     "start_time": "2022-04-27T19:39:30.888881Z"
    }
   },
   "source": [
    "# 2) Data Description"
   ]
  },
  {
   "cell_type": "code",
   "execution_count": 223,
   "id": "c13d7411",
   "metadata": {
    "ExecuteTime": {
     "end_time": "2022-04-27T21:50:24.859517Z",
     "start_time": "2022-04-27T21:50:24.842806Z"
    }
   },
   "outputs": [
    {
     "data": {
      "text/html": [
       "<div>\n",
       "<style scoped>\n",
       "    .dataframe tbody tr th:only-of-type {\n",
       "        vertical-align: middle;\n",
       "    }\n",
       "\n",
       "    .dataframe tbody tr th {\n",
       "        vertical-align: top;\n",
       "    }\n",
       "\n",
       "    .dataframe thead th {\n",
       "        text-align: right;\n",
       "    }\n",
       "</style>\n",
       "<table border=\"1\" class=\"dataframe\">\n",
       "  <thead>\n",
       "    <tr style=\"text-align: right;\">\n",
       "      <th></th>\n",
       "      <th>gender</th>\n",
       "      <th>age</th>\n",
       "      <th>region_code</th>\n",
       "      <th>policy_sales_channel</th>\n",
       "      <th>driving_license</th>\n",
       "      <th>vehicle_age</th>\n",
       "      <th>vehicle_damage</th>\n",
       "      <th>previously_insured</th>\n",
       "      <th>annual_premium</th>\n",
       "      <th>vintage</th>\n",
       "      <th>response</th>\n",
       "    </tr>\n",
       "  </thead>\n",
       "  <tbody>\n",
       "    <tr>\n",
       "      <th>0</th>\n",
       "      <td>Male</td>\n",
       "      <td>23</td>\n",
       "      <td>11.0</td>\n",
       "      <td>152.0</td>\n",
       "      <td>1</td>\n",
       "      <td>&lt; 1 Year</td>\n",
       "      <td>Yes</td>\n",
       "      <td>0</td>\n",
       "      <td>23367.0</td>\n",
       "      <td>249</td>\n",
       "      <td>0</td>\n",
       "    </tr>\n",
       "    <tr>\n",
       "      <th>1</th>\n",
       "      <td>Female</td>\n",
       "      <td>41</td>\n",
       "      <td>15.0</td>\n",
       "      <td>14.0</td>\n",
       "      <td>1</td>\n",
       "      <td>1-2 Year</td>\n",
       "      <td>No</td>\n",
       "      <td>1</td>\n",
       "      <td>31409.0</td>\n",
       "      <td>221</td>\n",
       "      <td>0</td>\n",
       "    </tr>\n",
       "    <tr>\n",
       "      <th>2</th>\n",
       "      <td>Female</td>\n",
       "      <td>25</td>\n",
       "      <td>35.0</td>\n",
       "      <td>152.0</td>\n",
       "      <td>1</td>\n",
       "      <td>&lt; 1 Year</td>\n",
       "      <td>No</td>\n",
       "      <td>1</td>\n",
       "      <td>46622.0</td>\n",
       "      <td>299</td>\n",
       "      <td>0</td>\n",
       "    </tr>\n",
       "    <tr>\n",
       "      <th>3</th>\n",
       "      <td>Female</td>\n",
       "      <td>26</td>\n",
       "      <td>8.0</td>\n",
       "      <td>160.0</td>\n",
       "      <td>1</td>\n",
       "      <td>&lt; 1 Year</td>\n",
       "      <td>No</td>\n",
       "      <td>0</td>\n",
       "      <td>2630.0</td>\n",
       "      <td>136</td>\n",
       "      <td>0</td>\n",
       "    </tr>\n",
       "    <tr>\n",
       "      <th>4</th>\n",
       "      <td>Male</td>\n",
       "      <td>45</td>\n",
       "      <td>8.0</td>\n",
       "      <td>124.0</td>\n",
       "      <td>1</td>\n",
       "      <td>1-2 Year</td>\n",
       "      <td>Yes</td>\n",
       "      <td>0</td>\n",
       "      <td>42297.0</td>\n",
       "      <td>264</td>\n",
       "      <td>0</td>\n",
       "    </tr>\n",
       "    <tr>\n",
       "      <th>...</th>\n",
       "      <td>...</td>\n",
       "      <td>...</td>\n",
       "      <td>...</td>\n",
       "      <td>...</td>\n",
       "      <td>...</td>\n",
       "      <td>...</td>\n",
       "      <td>...</td>\n",
       "      <td>...</td>\n",
       "      <td>...</td>\n",
       "      <td>...</td>\n",
       "      <td>...</td>\n",
       "    </tr>\n",
       "    <tr>\n",
       "      <th>381104</th>\n",
       "      <td>Male</td>\n",
       "      <td>24</td>\n",
       "      <td>8.0</td>\n",
       "      <td>152.0</td>\n",
       "      <td>1</td>\n",
       "      <td>&lt; 1 Year</td>\n",
       "      <td>No</td>\n",
       "      <td>1</td>\n",
       "      <td>38254.0</td>\n",
       "      <td>127</td>\n",
       "      <td>0</td>\n",
       "    </tr>\n",
       "    <tr>\n",
       "      <th>381105</th>\n",
       "      <td>Female</td>\n",
       "      <td>58</td>\n",
       "      <td>28.0</td>\n",
       "      <td>26.0</td>\n",
       "      <td>1</td>\n",
       "      <td>1-2 Year</td>\n",
       "      <td>Yes</td>\n",
       "      <td>0</td>\n",
       "      <td>39740.0</td>\n",
       "      <td>170</td>\n",
       "      <td>0</td>\n",
       "    </tr>\n",
       "    <tr>\n",
       "      <th>381106</th>\n",
       "      <td>Female</td>\n",
       "      <td>75</td>\n",
       "      <td>28.0</td>\n",
       "      <td>26.0</td>\n",
       "      <td>1</td>\n",
       "      <td>1-2 Year</td>\n",
       "      <td>No</td>\n",
       "      <td>1</td>\n",
       "      <td>51619.0</td>\n",
       "      <td>80</td>\n",
       "      <td>0</td>\n",
       "    </tr>\n",
       "    <tr>\n",
       "      <th>381107</th>\n",
       "      <td>Female</td>\n",
       "      <td>49</td>\n",
       "      <td>10.0</td>\n",
       "      <td>26.0</td>\n",
       "      <td>1</td>\n",
       "      <td>1-2 Year</td>\n",
       "      <td>Yes</td>\n",
       "      <td>0</td>\n",
       "      <td>34541.0</td>\n",
       "      <td>44</td>\n",
       "      <td>0</td>\n",
       "    </tr>\n",
       "    <tr>\n",
       "      <th>381108</th>\n",
       "      <td>Female</td>\n",
       "      <td>51</td>\n",
       "      <td>28.0</td>\n",
       "      <td>26.0</td>\n",
       "      <td>1</td>\n",
       "      <td>1-2 Year</td>\n",
       "      <td>Yes</td>\n",
       "      <td>0</td>\n",
       "      <td>44504.0</td>\n",
       "      <td>71</td>\n",
       "      <td>0</td>\n",
       "    </tr>\n",
       "  </tbody>\n",
       "</table>\n",
       "<p>381109 rows × 11 columns</p>\n",
       "</div>"
      ],
      "text/plain": [
       "        gender  age  region_code  policy_sales_channel  driving_license  \\\n",
       "0         Male   23         11.0                 152.0                1   \n",
       "1       Female   41         15.0                  14.0                1   \n",
       "2       Female   25         35.0                 152.0                1   \n",
       "3       Female   26          8.0                 160.0                1   \n",
       "4         Male   45          8.0                 124.0                1   \n",
       "...        ...  ...          ...                   ...              ...   \n",
       "381104    Male   24          8.0                 152.0                1   \n",
       "381105  Female   58         28.0                  26.0                1   \n",
       "381106  Female   75         28.0                  26.0                1   \n",
       "381107  Female   49         10.0                  26.0                1   \n",
       "381108  Female   51         28.0                  26.0                1   \n",
       "\n",
       "       vehicle_age vehicle_damage  previously_insured  annual_premium  \\\n",
       "0         < 1 Year            Yes                   0         23367.0   \n",
       "1         1-2 Year             No                   1         31409.0   \n",
       "2         < 1 Year             No                   1         46622.0   \n",
       "3         < 1 Year             No                   0          2630.0   \n",
       "4         1-2 Year            Yes                   0         42297.0   \n",
       "...            ...            ...                 ...             ...   \n",
       "381104    < 1 Year             No                   1         38254.0   \n",
       "381105    1-2 Year            Yes                   0         39740.0   \n",
       "381106    1-2 Year             No                   1         51619.0   \n",
       "381107    1-2 Year            Yes                   0         34541.0   \n",
       "381108    1-2 Year            Yes                   0         44504.0   \n",
       "\n",
       "        vintage  response  \n",
       "0           249         0  \n",
       "1           221         0  \n",
       "2           299         0  \n",
       "3           136         0  \n",
       "4           264         0  \n",
       "...         ...       ...  \n",
       "381104      127         0  \n",
       "381105      170         0  \n",
       "381106       80         0  \n",
       "381107       44         0  \n",
       "381108       71         0  \n",
       "\n",
       "[381109 rows x 11 columns]"
      ]
     },
     "execution_count": 223,
     "metadata": {},
     "output_type": "execute_result"
    }
   ],
   "source": [
    "df1"
   ]
  },
  {
   "cell_type": "code",
   "execution_count": 224,
   "id": "fc6807af",
   "metadata": {
    "ExecuteTime": {
     "end_time": "2022-04-27T21:50:24.864417Z",
     "start_time": "2022-04-27T21:50:24.860829Z"
    }
   },
   "outputs": [],
   "source": [
    "df2 = df1"
   ]
  },
  {
   "cell_type": "code",
   "execution_count": 225,
   "id": "e589b9ff",
   "metadata": {
    "ExecuteTime": {
     "end_time": "2022-04-27T21:50:24.879986Z",
     "start_time": "2022-04-27T21:50:24.866643Z"
    },
    "scrolled": false
   },
   "outputs": [
    {
     "data": {
      "text/html": [
       "<div>\n",
       "<style scoped>\n",
       "    .dataframe tbody tr th:only-of-type {\n",
       "        vertical-align: middle;\n",
       "    }\n",
       "\n",
       "    .dataframe tbody tr th {\n",
       "        vertical-align: top;\n",
       "    }\n",
       "\n",
       "    .dataframe thead th {\n",
       "        text-align: right;\n",
       "    }\n",
       "</style>\n",
       "<table border=\"1\" class=\"dataframe\">\n",
       "  <thead>\n",
       "    <tr style=\"text-align: right;\">\n",
       "      <th></th>\n",
       "      <th>gender</th>\n",
       "      <th>age</th>\n",
       "      <th>region_code</th>\n",
       "      <th>policy_sales_channel</th>\n",
       "      <th>driving_license</th>\n",
       "      <th>vehicle_age</th>\n",
       "      <th>vehicle_damage</th>\n",
       "      <th>previously_insured</th>\n",
       "      <th>annual_premium</th>\n",
       "      <th>vintage</th>\n",
       "      <th>response</th>\n",
       "    </tr>\n",
       "  </thead>\n",
       "  <tbody>\n",
       "    <tr>\n",
       "      <th>0</th>\n",
       "      <td>Male</td>\n",
       "      <td>23</td>\n",
       "      <td>11.0</td>\n",
       "      <td>152.0</td>\n",
       "      <td>1</td>\n",
       "      <td>&lt; 1 Year</td>\n",
       "      <td>Yes</td>\n",
       "      <td>0</td>\n",
       "      <td>23367.0</td>\n",
       "      <td>249</td>\n",
       "      <td>0</td>\n",
       "    </tr>\n",
       "    <tr>\n",
       "      <th>1</th>\n",
       "      <td>Female</td>\n",
       "      <td>41</td>\n",
       "      <td>15.0</td>\n",
       "      <td>14.0</td>\n",
       "      <td>1</td>\n",
       "      <td>1-2 Year</td>\n",
       "      <td>No</td>\n",
       "      <td>1</td>\n",
       "      <td>31409.0</td>\n",
       "      <td>221</td>\n",
       "      <td>0</td>\n",
       "    </tr>\n",
       "    <tr>\n",
       "      <th>2</th>\n",
       "      <td>Female</td>\n",
       "      <td>25</td>\n",
       "      <td>35.0</td>\n",
       "      <td>152.0</td>\n",
       "      <td>1</td>\n",
       "      <td>&lt; 1 Year</td>\n",
       "      <td>No</td>\n",
       "      <td>1</td>\n",
       "      <td>46622.0</td>\n",
       "      <td>299</td>\n",
       "      <td>0</td>\n",
       "    </tr>\n",
       "    <tr>\n",
       "      <th>3</th>\n",
       "      <td>Female</td>\n",
       "      <td>26</td>\n",
       "      <td>8.0</td>\n",
       "      <td>160.0</td>\n",
       "      <td>1</td>\n",
       "      <td>&lt; 1 Year</td>\n",
       "      <td>No</td>\n",
       "      <td>0</td>\n",
       "      <td>2630.0</td>\n",
       "      <td>136</td>\n",
       "      <td>0</td>\n",
       "    </tr>\n",
       "    <tr>\n",
       "      <th>4</th>\n",
       "      <td>Male</td>\n",
       "      <td>45</td>\n",
       "      <td>8.0</td>\n",
       "      <td>124.0</td>\n",
       "      <td>1</td>\n",
       "      <td>1-2 Year</td>\n",
       "      <td>Yes</td>\n",
       "      <td>0</td>\n",
       "      <td>42297.0</td>\n",
       "      <td>264</td>\n",
       "      <td>0</td>\n",
       "    </tr>\n",
       "  </tbody>\n",
       "</table>\n",
       "</div>"
      ],
      "text/plain": [
       "   gender  age  region_code  policy_sales_channel  driving_license  \\\n",
       "0    Male   23         11.0                 152.0                1   \n",
       "1  Female   41         15.0                  14.0                1   \n",
       "2  Female   25         35.0                 152.0                1   \n",
       "3  Female   26          8.0                 160.0                1   \n",
       "4    Male   45          8.0                 124.0                1   \n",
       "\n",
       "  vehicle_age vehicle_damage  previously_insured  annual_premium  vintage  \\\n",
       "0    < 1 Year            Yes                   0         23367.0      249   \n",
       "1    1-2 Year             No                   1         31409.0      221   \n",
       "2    < 1 Year             No                   1         46622.0      299   \n",
       "3    < 1 Year             No                   0          2630.0      136   \n",
       "4    1-2 Year            Yes                   0         42297.0      264   \n",
       "\n",
       "   response  \n",
       "0         0  \n",
       "1         0  \n",
       "2         0  \n",
       "3         0  \n",
       "4         0  "
      ]
     },
     "execution_count": 225,
     "metadata": {},
     "output_type": "execute_result"
    }
   ],
   "source": [
    "df2.head()"
   ]
  },
  {
   "cell_type": "markdown",
   "id": "f42d8871",
   "metadata": {},
   "source": [
    "## 2.1) Data Types"
   ]
  },
  {
   "cell_type": "code",
   "execution_count": 226,
   "id": "e1b13b59",
   "metadata": {
    "ExecuteTime": {
     "end_time": "2022-04-27T21:50:24.886895Z",
     "start_time": "2022-04-27T21:50:24.881702Z"
    }
   },
   "outputs": [
    {
     "data": {
      "text/plain": [
       "gender                   object\n",
       "age                       int64\n",
       "region_code             float64\n",
       "policy_sales_channel    float64\n",
       "driving_license           int64\n",
       "vehicle_age              object\n",
       "vehicle_damage           object\n",
       "previously_insured        int64\n",
       "annual_premium          float64\n",
       "vintage                   int64\n",
       "response                  int64\n",
       "dtype: object"
      ]
     },
     "execution_count": 226,
     "metadata": {},
     "output_type": "execute_result"
    }
   ],
   "source": [
    "df2.dtypes"
   ]
  },
  {
   "cell_type": "markdown",
   "id": "0d7cd616",
   "metadata": {},
   "source": [
    "## 2.2) Check NA"
   ]
  },
  {
   "cell_type": "code",
   "execution_count": 227,
   "id": "14a37f8e",
   "metadata": {
    "ExecuteTime": {
     "end_time": "2022-04-27T21:50:25.064718Z",
     "start_time": "2022-04-27T21:50:24.891220Z"
    }
   },
   "outputs": [
    {
     "data": {
      "text/plain": [
       "gender                  0\n",
       "age                     0\n",
       "region_code             0\n",
       "policy_sales_channel    0\n",
       "driving_license         0\n",
       "vehicle_age             0\n",
       "vehicle_damage          0\n",
       "previously_insured      0\n",
       "annual_premium          0\n",
       "vintage                 0\n",
       "response                0\n",
       "dtype: int64"
      ]
     },
     "execution_count": 227,
     "metadata": {},
     "output_type": "execute_result"
    }
   ],
   "source": [
    "df2.isna().sum()"
   ]
  },
  {
   "cell_type": "markdown",
   "id": "35b9918e",
   "metadata": {},
   "source": [
    "## 2.3) Data Dimensions"
   ]
  },
  {
   "cell_type": "code",
   "execution_count": 228,
   "id": "f94803f0",
   "metadata": {
    "ExecuteTime": {
     "end_time": "2022-04-27T21:50:25.072976Z",
     "start_time": "2022-04-27T21:50:25.067493Z"
    }
   },
   "outputs": [
    {
     "name": "stdout",
     "output_type": "stream",
     "text": [
      "Number of Rows: 381109\n",
      "Number of Columns: 11\n"
     ]
    }
   ],
   "source": [
    "print('Number of Rows: {}'.format(df2.shape[0]))\n",
    "print('Number of Columns: {}'.format(df2.shape[1]))"
   ]
  },
  {
   "cell_type": "markdown",
   "id": "190b8c92",
   "metadata": {},
   "source": [
    "## 2.4) Change Types"
   ]
  },
  {
   "cell_type": "code",
   "execution_count": 229,
   "id": "430cb05a",
   "metadata": {
    "ExecuteTime": {
     "end_time": "2022-04-27T21:50:25.082240Z",
     "start_time": "2022-04-27T21:50:25.076156Z"
    }
   },
   "outputs": [
    {
     "data": {
      "text/plain": [
       "gender                   object\n",
       "age                       int64\n",
       "region_code             float64\n",
       "policy_sales_channel    float64\n",
       "driving_license           int64\n",
       "vehicle_age              object\n",
       "vehicle_damage           object\n",
       "previously_insured        int64\n",
       "annual_premium          float64\n",
       "vintage                   int64\n",
       "response                  int64\n",
       "dtype: object"
      ]
     },
     "execution_count": 229,
     "metadata": {},
     "output_type": "execute_result"
    }
   ],
   "source": [
    "df2.dtypes"
   ]
  },
  {
   "cell_type": "code",
   "execution_count": 230,
   "id": "38839c0c",
   "metadata": {
    "ExecuteTime": {
     "end_time": "2022-04-27T21:50:25.087245Z",
     "start_time": "2022-04-27T21:50:25.084485Z"
    }
   },
   "outputs": [],
   "source": [
    "#df2['gender'] = df2['gender'].apply(lambda x: 0 if x == 'Male' else 1)\n",
    "#df2['region_code'] = df2['region_code'].astype(int)\n",
    "#df2['policy_sales_channel'] = df2['policy_sales_channel'].astype(int)\n",
    "#df2['vehicle_age'] = df2['vehicle_age'].apply(lambda x: 0 if x == '< 1 Year' else 1 if x == '1-2 Year' else 2)\n",
    "#df2['vehicle_damage'] = df2['vehicle_damage'].apply(lambda x: 1 if x == 'Yes' else 0)"
   ]
  },
  {
   "cell_type": "code",
   "execution_count": 231,
   "id": "99764f6e",
   "metadata": {
    "ExecuteTime": {
     "end_time": "2022-04-27T21:50:25.093824Z",
     "start_time": "2022-04-27T21:50:25.088768Z"
    }
   },
   "outputs": [],
   "source": [
    "num_attributes = df2.select_dtypes(include=['int64', 'float64'])"
   ]
  },
  {
   "cell_type": "markdown",
   "id": "72e7b795",
   "metadata": {},
   "source": [
    "# 3) Feature Engineering"
   ]
  },
  {
   "cell_type": "code",
   "execution_count": 232,
   "id": "b6c4476f",
   "metadata": {
    "ExecuteTime": {
     "end_time": "2022-04-27T21:50:25.100989Z",
     "start_time": "2022-04-27T21:50:25.097612Z"
    }
   },
   "outputs": [],
   "source": [
    "df3 = df2"
   ]
  },
  {
   "cell_type": "markdown",
   "id": "7e3fd485",
   "metadata": {},
   "source": [
    "## 3.1) Hypothesis"
   ]
  },
  {
   "cell_type": "markdown",
   "id": "53bd5c01",
   "metadata": {},
   "source": [
    "**1.** In average, Female should buy car insurance.\n",
    "\n",
    "**2.** Older people should buy car insurance.\n",
    "\n",
    "**3.** Clients with vehicle damage should buy car insurance.\n",
    "\n",
    "**4.** Clients with higher annual premium should buy car insurance.\n",
    "\n",
    "**5.** Clients that don't have a driving license should not buy a car insurance."
   ]
  },
  {
   "cell_type": "markdown",
   "id": "f1c68ee0",
   "metadata": {},
   "source": [
    "# 4) Exploratory Data Analysis"
   ]
  },
  {
   "cell_type": "code",
   "execution_count": 233,
   "id": "13c80439",
   "metadata": {
    "ExecuteTime": {
     "end_time": "2022-04-27T21:50:25.107866Z",
     "start_time": "2022-04-27T21:50:25.104051Z"
    }
   },
   "outputs": [],
   "source": [
    "df4 = df3"
   ]
  },
  {
   "cell_type": "markdown",
   "id": "e9b4fdc5",
   "metadata": {},
   "source": [
    "## 4.1) Numerical Attributes"
   ]
  },
  {
   "cell_type": "code",
   "execution_count": 234,
   "id": "771ccfff",
   "metadata": {
    "ExecuteTime": {
     "end_time": "2022-04-27T21:50:26.461090Z",
     "start_time": "2022-04-27T21:50:25.110703Z"
    }
   },
   "outputs": [
    {
     "data": {
      "image/png": "[encoded data removed]",
      "text/plain": [
       "<Figure size 1080x720 with 9 Axes>"
      ]
     },
     "metadata": {},
     "output_type": "display_data"
    }
   ],
   "source": [
    "num_attributes.hist(bins=25);"
   ]
  },
  {
   "cell_type": "markdown",
   "id": "40416a09",
   "metadata": {
    "ExecuteTime": {
     "end_time": "2022-04-27T21:41:27.933615Z",
     "start_time": "2022-04-27T21:41:27.927579Z"
    }
   },
   "source": [
    "## 4.2) Checking Hypothesis"
   ]
  },
  {
   "cell_type": "markdown",
   "id": "05cfffdb",
   "metadata": {},
   "source": [
    "### H1) In average, Female should buy car insurance. "
   ]
  },
  {
   "cell_type": "code",
   "execution_count": 243,
   "id": "f9bcf678",
   "metadata": {
    "ExecuteTime": {
     "end_time": "2022-04-27T21:51:50.468287Z",
     "start_time": "2022-04-27T21:51:50.288402Z"
    }
   },
   "outputs": [
    {
     "data": {
      "image/png": "[encoded data removed]",
      "text/plain": [
       "<Figure size 1080x720 with 1 Axes>"
      ]
     },
     "metadata": {},
     "output_type": "display_data"
    }
   ],
   "source": [
    "aux1 = df4[['gender', 'response']].groupby('gender').mean().reset_index()\n",
    "sns.barplot(x='gender', y='response', data=aux1);"
   ]
  },
  {
   "cell_type": "markdown",
   "id": "28280ca9",
   "metadata": {},
   "source": [
    "### H2) Older people should buy car insurance"
   ]
  },
  {
   "cell_type": "code",
   "execution_count": 244,
   "id": "2f6b1a4e",
   "metadata": {
    "ExecuteTime": {
     "end_time": "2022-04-27T21:51:53.737816Z",
     "start_time": "2022-04-27T21:51:53.535675Z"
    }
   },
   "outputs": [
    {
     "data": {
      "image/png": "[encoded data removed]",
      "text/plain": [
       "<Figure size 1080x720 with 1 Axes>"
      ]
     },
     "metadata": {},
     "output_type": "display_data"
    }
   ],
   "source": [
    "aux1 = df4[['age', 'response']].groupby('age').sum().reset_index()\n",
    "sns.lineplot(x='age', y='response', data=aux1);"
   ]
  },
  {
   "cell_type": "markdown",
   "id": "b7052132",
   "metadata": {},
   "source": [
    "### H3: Clients with vehicle damage should buy more car insurance"
   ]
  },
  {
   "cell_type": "code",
   "execution_count": 249,
   "id": "e5c63dfd",
   "metadata": {
    "ExecuteTime": {
     "end_time": "2022-04-27T21:53:12.169048Z",
     "start_time": "2022-04-27T21:53:11.985325Z"
    }
   },
   "outputs": [
    {
     "data": {
      "text/plain": [
       "<AxesSubplot:xlabel='vehicle_damage', ylabel='response'>"
      ]
     },
     "execution_count": 249,
     "metadata": {},
     "output_type": "execute_result"
    },
    {
     "data": {
      "image/png": "[encoded data removed]",
      "text/plain": [
       "<Figure size 1080x720 with 1 Axes>"
      ]
     },
     "metadata": {},
     "output_type": "display_data"
    }
   ],
   "source": [
    "aux1 = df4[['response', 'vehicle_damage']].groupby('vehicle_damage').sum().reset_index()\n",
    "sns.barplot(x='vehicle_damage', y='response', data=aux1)"
   ]
  },
  {
   "cell_type": "markdown",
   "id": "6b031692",
   "metadata": {},
   "source": [
    "### H4: Clients with higher annual premium should buy car insurance."
   ]
  },
  {
   "cell_type": "code",
   "execution_count": 267,
   "id": "b4739f1b",
   "metadata": {
    "ExecuteTime": {
     "end_time": "2022-04-27T22:06:50.762624Z",
     "start_time": "2022-04-27T22:06:50.740606Z"
    }
   },
   "outputs": [
    {
     "data": {
      "text/plain": [
       "count    381109.000000\n",
       "mean      30564.389581\n",
       "std       17213.155057\n",
       "min        2630.000000\n",
       "25%       24405.000000\n",
       "50%       31669.000000\n",
       "75%       39400.000000\n",
       "max      540165.000000\n",
       "Name: annual_premium, dtype: float64"
      ]
     },
     "execution_count": 267,
     "metadata": {},
     "output_type": "execute_result"
    }
   ],
   "source": [
    "df4['annual_premium'].describe()"
   ]
  },
  {
   "cell_type": "code",
   "execution_count": 274,
   "id": "39a66b8f",
   "metadata": {
    "ExecuteTime": {
     "end_time": "2022-04-27T22:09:05.792416Z",
     "start_time": "2022-04-27T22:09:05.515113Z"
    }
   },
   "outputs": [
    {
     "data": {
      "image/png": "[encoded data removed]",
      "text/plain": [
       "<Figure size 1080x720 with 1 Axes>"
      ]
     },
     "metadata": {},
     "output_type": "display_data"
    }
   ],
   "source": [
    "aux1 = df4[['response', 'annual_premium']].groupby('annual_premium').mean().reset_index()\n",
    "# creating groups\n",
    "bins = list(np.arange(0, 50000, 3000))\n",
    " \n",
    "aux1['annual_premium_binned'] = pd.cut(aux1['annual_premium'], bins=bins)\n",
    "aux2 = aux1[['annual_premium_binned', 'response']].groupby('annual_premium_binned').mean().reset_index()\n",
    "\n",
    "sns.barplot(x='annual_premium_binned', y='response', data=aux2);\n",
    "plt.xticks(rotation=30);"
   ]
  },
  {
   "cell_type": "code",
   "execution_count": 238,
   "id": "ef29cd2a",
   "metadata": {
    "ExecuteTime": {
     "end_time": "2022-04-27T21:50:34.575957Z",
     "start_time": "2022-04-27T21:50:34.571514Z"
    }
   },
   "outputs": [
    {
     "ename": "SyntaxError",
     "evalue": "invalid syntax (251719408.py, line 1)",
     "output_type": "error",
     "traceback": [
      "\u001b[0;36m  Input \u001b[0;32mIn [238]\u001b[0;36m\u001b[0m\n\u001b[0;31m    **3.** Clients with vehicle damage should buy car insurance.\u001b[0m\n\u001b[0m    ^\u001b[0m\n\u001b[0;31mSyntaxError\u001b[0m\u001b[0;31m:\u001b[0m invalid syntax\n"
     ]
    }
   ],
   "source": [
    "\n",
    "**5.** Clients that don't have a driving license should not buy a car insurance."
   ]
  },
  {
   "cell_type": "code",
   "execution_count": 255,
   "id": "9043eaa0",
   "metadata": {
    "ExecuteTime": {
     "end_time": "2022-04-27T21:59:35.833320Z",
     "start_time": "2022-04-27T21:59:35.812044Z"
    }
   },
   "outputs": [
    {
     "data": {
      "text/html": [
       "<div>\n",
       "<style scoped>\n",
       "    .dataframe tbody tr th:only-of-type {\n",
       "        vertical-align: middle;\n",
       "    }\n",
       "\n",
       "    .dataframe tbody tr th {\n",
       "        vertical-align: top;\n",
       "    }\n",
       "\n",
       "    .dataframe thead th {\n",
       "        text-align: right;\n",
       "    }\n",
       "</style>\n",
       "<table border=\"1\" class=\"dataframe\">\n",
       "  <thead>\n",
       "    <tr style=\"text-align: right;\">\n",
       "      <th></th>\n",
       "      <th>gender</th>\n",
       "      <th>age</th>\n",
       "      <th>region_code</th>\n",
       "      <th>policy_sales_channel</th>\n",
       "      <th>driving_license</th>\n",
       "      <th>vehicle_age</th>\n",
       "      <th>vehicle_damage</th>\n",
       "      <th>previously_insured</th>\n",
       "      <th>annual_premium</th>\n",
       "      <th>vintage</th>\n",
       "      <th>response</th>\n",
       "    </tr>\n",
       "  </thead>\n",
       "  <tbody>\n",
       "    <tr>\n",
       "      <th>0</th>\n",
       "      <td>Male</td>\n",
       "      <td>23</td>\n",
       "      <td>11.0</td>\n",
       "      <td>152.0</td>\n",
       "      <td>1</td>\n",
       "      <td>&lt; 1 Year</td>\n",
       "      <td>Yes</td>\n",
       "      <td>0</td>\n",
       "      <td>23367.0</td>\n",
       "      <td>249</td>\n",
       "      <td>0</td>\n",
       "    </tr>\n",
       "    <tr>\n",
       "      <th>1</th>\n",
       "      <td>Female</td>\n",
       "      <td>41</td>\n",
       "      <td>15.0</td>\n",
       "      <td>14.0</td>\n",
       "      <td>1</td>\n",
       "      <td>1-2 Year</td>\n",
       "      <td>No</td>\n",
       "      <td>1</td>\n",
       "      <td>31409.0</td>\n",
       "      <td>221</td>\n",
       "      <td>0</td>\n",
       "    </tr>\n",
       "    <tr>\n",
       "      <th>2</th>\n",
       "      <td>Female</td>\n",
       "      <td>25</td>\n",
       "      <td>35.0</td>\n",
       "      <td>152.0</td>\n",
       "      <td>1</td>\n",
       "      <td>&lt; 1 Year</td>\n",
       "      <td>No</td>\n",
       "      <td>1</td>\n",
       "      <td>46622.0</td>\n",
       "      <td>299</td>\n",
       "      <td>0</td>\n",
       "    </tr>\n",
       "    <tr>\n",
       "      <th>3</th>\n",
       "      <td>Female</td>\n",
       "      <td>26</td>\n",
       "      <td>8.0</td>\n",
       "      <td>160.0</td>\n",
       "      <td>1</td>\n",
       "      <td>&lt; 1 Year</td>\n",
       "      <td>No</td>\n",
       "      <td>0</td>\n",
       "      <td>2630.0</td>\n",
       "      <td>136</td>\n",
       "      <td>0</td>\n",
       "    </tr>\n",
       "    <tr>\n",
       "      <th>4</th>\n",
       "      <td>Male</td>\n",
       "      <td>45</td>\n",
       "      <td>8.0</td>\n",
       "      <td>124.0</td>\n",
       "      <td>1</td>\n",
       "      <td>1-2 Year</td>\n",
       "      <td>Yes</td>\n",
       "      <td>0</td>\n",
       "      <td>42297.0</td>\n",
       "      <td>264</td>\n",
       "      <td>0</td>\n",
       "    </tr>\n",
       "    <tr>\n",
       "      <th>...</th>\n",
       "      <td>...</td>\n",
       "      <td>...</td>\n",
       "      <td>...</td>\n",
       "      <td>...</td>\n",
       "      <td>...</td>\n",
       "      <td>...</td>\n",
       "      <td>...</td>\n",
       "      <td>...</td>\n",
       "      <td>...</td>\n",
       "      <td>...</td>\n",
       "      <td>...</td>\n",
       "    </tr>\n",
       "    <tr>\n",
       "      <th>381104</th>\n",
       "      <td>Male</td>\n",
       "      <td>24</td>\n",
       "      <td>8.0</td>\n",
       "      <td>152.0</td>\n",
       "      <td>1</td>\n",
       "      <td>&lt; 1 Year</td>\n",
       "      <td>No</td>\n",
       "      <td>1</td>\n",
       "      <td>38254.0</td>\n",
       "      <td>127</td>\n",
       "      <td>0</td>\n",
       "    </tr>\n",
       "    <tr>\n",
       "      <th>381105</th>\n",
       "      <td>Female</td>\n",
       "      <td>58</td>\n",
       "      <td>28.0</td>\n",
       "      <td>26.0</td>\n",
       "      <td>1</td>\n",
       "      <td>1-2 Year</td>\n",
       "      <td>Yes</td>\n",
       "      <td>0</td>\n",
       "      <td>39740.0</td>\n",
       "      <td>170</td>\n",
       "      <td>0</td>\n",
       "    </tr>\n",
       "    <tr>\n",
       "      <th>381106</th>\n",
       "      <td>Female</td>\n",
       "      <td>75</td>\n",
       "      <td>28.0</td>\n",
       "      <td>26.0</td>\n",
       "      <td>1</td>\n",
       "      <td>1-2 Year</td>\n",
       "      <td>No</td>\n",
       "      <td>1</td>\n",
       "      <td>51619.0</td>\n",
       "      <td>80</td>\n",
       "      <td>0</td>\n",
       "    </tr>\n",
       "    <tr>\n",
       "      <th>381107</th>\n",
       "      <td>Female</td>\n",
       "      <td>49</td>\n",
       "      <td>10.0</td>\n",
       "      <td>26.0</td>\n",
       "      <td>1</td>\n",
       "      <td>1-2 Year</td>\n",
       "      <td>Yes</td>\n",
       "      <td>0</td>\n",
       "      <td>34541.0</td>\n",
       "      <td>44</td>\n",
       "      <td>0</td>\n",
       "    </tr>\n",
       "    <tr>\n",
       "      <th>381108</th>\n",
       "      <td>Female</td>\n",
       "      <td>51</td>\n",
       "      <td>28.0</td>\n",
       "      <td>26.0</td>\n",
       "      <td>1</td>\n",
       "      <td>1-2 Year</td>\n",
       "      <td>Yes</td>\n",
       "      <td>0</td>\n",
       "      <td>44504.0</td>\n",
       "      <td>71</td>\n",
       "      <td>0</td>\n",
       "    </tr>\n",
       "  </tbody>\n",
       "</table>\n",
       "<p>381109 rows × 11 columns</p>\n",
       "</div>"
      ],
      "text/plain": [
       "        gender  age  region_code  policy_sales_channel  driving_license  \\\n",
       "0         Male   23         11.0                 152.0                1   \n",
       "1       Female   41         15.0                  14.0                1   \n",
       "2       Female   25         35.0                 152.0                1   \n",
       "3       Female   26          8.0                 160.0                1   \n",
       "4         Male   45          8.0                 124.0                1   \n",
       "...        ...  ...          ...                   ...              ...   \n",
       "381104    Male   24          8.0                 152.0                1   \n",
       "381105  Female   58         28.0                  26.0                1   \n",
       "381106  Female   75         28.0                  26.0                1   \n",
       "381107  Female   49         10.0                  26.0                1   \n",
       "381108  Female   51         28.0                  26.0                1   \n",
       "\n",
       "       vehicle_age vehicle_damage  previously_insured  annual_premium  \\\n",
       "0         < 1 Year            Yes                   0         23367.0   \n",
       "1         1-2 Year             No                   1         31409.0   \n",
       "2         < 1 Year             No                   1         46622.0   \n",
       "3         < 1 Year             No                   0          2630.0   \n",
       "4         1-2 Year            Yes                   0         42297.0   \n",
       "...            ...            ...                 ...             ...   \n",
       "381104    < 1 Year             No                   1         38254.0   \n",
       "381105    1-2 Year            Yes                   0         39740.0   \n",
       "381106    1-2 Year             No                   1         51619.0   \n",
       "381107    1-2 Year            Yes                   0         34541.0   \n",
       "381108    1-2 Year            Yes                   0         44504.0   \n",
       "\n",
       "        vintage  response  \n",
       "0           249         0  \n",
       "1           221         0  \n",
       "2           299         0  \n",
       "3           136         0  \n",
       "4           264         0  \n",
       "...         ...       ...  \n",
       "381104      127         0  \n",
       "381105      170         0  \n",
       "381106       80         0  \n",
       "381107       44         0  \n",
       "381108       71         0  \n",
       "\n",
       "[381109 rows x 11 columns]"
      ]
     },
     "execution_count": 255,
     "metadata": {},
     "output_type": "execute_result"
    }
   ],
   "source": [
    "df4"
   ]
  },
  {
   "cell_type": "code",
   "execution_count": null,
   "id": "ef43d7c4",
   "metadata": {},
   "outputs": [],
   "source": []
  },
  {
   "cell_type": "code",
   "execution_count": null,
   "id": "8f44855f",
   "metadata": {},
   "outputs": [],
   "source": []
  },
  {
   "cell_type": "code",
   "execution_count": null,
   "id": "6f968869",
   "metadata": {},
   "outputs": [],
   "source": []
  },
  {
   "cell_type": "code",
   "execution_count": null,
   "id": "22c40676",
   "metadata": {},
   "outputs": [],
   "source": []
  }
 ],
 "metadata": {
  "kernelspec": {
   "display_name": "Python 3 (ipykernel)",
   "language": "python",
   "name": "python3"
  },
  "language_info": {
   "codemirror_mode": {
    "name": "ipython",
    "version": 3
   },
   "file_extension": ".py",
   "mimetype": "text/x-python",
   "name": "python",
   "nbconvert_exporter": "python",
   "pygments_lexer": "ipython3",
   "version": "3.9.0"
  },
  "varInspector": {
   "cols": {
    "lenName": 16,
    "lenType": 16,
    "lenVar": 40
   },
   "kernels_config": {
    "python": {
     "delete_cmd_postfix": "",
     "delete_cmd_prefix": "del ",
     "library": "var_list.py",
     "varRefreshCmd": "print(var_dic_list())"
    },
    "r": {
     "delete_cmd_postfix": ") ",
     "delete_cmd_prefix": "rm(",
     "library": "var_list.r",
     "varRefreshCmd": "cat(var_dic_list()) "
    }
   },
   "types_to_exclude": [
    "module",
    "function",
    "builtin_function_or_method",
    "instance",
    "_Feature"
   ],
   "window_display": false
  }
 },
 "nbformat": 4,
 "nbformat_minor": 5
}
